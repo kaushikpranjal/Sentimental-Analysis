{
 "cells": [
  {
   "cell_type": "code",
   "execution_count": 185,
   "id": "a0fbd3c5-4d51-4df0-bd91-087799cd432d",
   "metadata": {},
   "outputs": [],
   "source": [
    "####1) Importing the datasets"
   ]
  },
  {
   "cell_type": "code",
   "execution_count": 186,
   "id": "745c1173-2294-4f90-b7b5-edc0d723000a",
   "metadata": {},
   "outputs": [],
   "source": [
    "import numpy as np\n",
    "import pandas as pd\n",
    "import matplotlib.pyplot as plt"
   ]
  },
  {
   "cell_type": "code",
   "execution_count": 187,
   "id": "14df16d5-193d-44e0-b31a-3c107dceae2f",
   "metadata": {},
   "outputs": [],
   "source": [
    "import spacy\n",
    "nlp = spacy.load('en_core_web_sm')"
   ]
  },
  {
   "cell_type": "code",
   "execution_count": 188,
   "id": "9ae11871-f74d-4f14-b690-2d62175f891b",
   "metadata": {},
   "outputs": [
    {
     "data": {
      "text/html": [
       "<div>\n",
       "<style scoped>\n",
       "    .dataframe tbody tr th:only-of-type {\n",
       "        vertical-align: middle;\n",
       "    }\n",
       "\n",
       "    .dataframe tbody tr th {\n",
       "        vertical-align: top;\n",
       "    }\n",
       "\n",
       "    .dataframe thead th {\n",
       "        text-align: right;\n",
       "    }\n",
       "</style>\n",
       "<table border=\"1\" class=\"dataframe\">\n",
       "  <thead>\n",
       "    <tr style=\"text-align: right;\">\n",
       "      <th></th>\n",
       "      <th>Company</th>\n",
       "      <th>Date</th>\n",
       "      <th>tweet_text</th>\n",
       "      <th>Azure label</th>\n",
       "      <th>Score</th>\n",
       "      <th>TextBlob Label</th>\n",
       "      <th>Comparision</th>\n",
       "    </tr>\n",
       "  </thead>\n",
       "  <tbody>\n",
       "    <tr>\n",
       "      <th>0</th>\n",
       "      <td>IBN</td>\n",
       "      <td>2024-01-04 00:00:00</td>\n",
       "      <td>IBN Stock Earnings: ICICI Bank Reported Result...</td>\n",
       "      <td>positive</td>\n",
       "      <td>0.728372</td>\n",
       "      <td>Neutral</td>\n",
       "      <td>Do not match</td>\n",
       "    </tr>\n",
       "    <tr>\n",
       "      <th>1</th>\n",
       "      <td>IBN</td>\n",
       "      <td>2024-01-04 00:00:00</td>\n",
       "      <td>IBN Stock Earnings: ICICI Bank Beats EPS for Q...</td>\n",
       "      <td>positive</td>\n",
       "      <td>0.769400</td>\n",
       "      <td>Neutral</td>\n",
       "      <td>Do not match</td>\n",
       "    </tr>\n",
       "    <tr>\n",
       "      <th>2</th>\n",
       "      <td>IBN</td>\n",
       "      <td>2024-01-04 00:00:00</td>\n",
       "      <td>12 Asian Countries with the Best Quality of Life</td>\n",
       "      <td>positive</td>\n",
       "      <td>0.872366</td>\n",
       "      <td>Positive</td>\n",
       "      <td>Match</td>\n",
       "    </tr>\n",
       "    <tr>\n",
       "      <th>3</th>\n",
       "      <td>IBN</td>\n",
       "      <td>2024-01-04 00:00:00</td>\n",
       "      <td>Zacks Industry Outlook Highlights Mitsubishi U...</td>\n",
       "      <td>positive</td>\n",
       "      <td>0.602522</td>\n",
       "      <td>Neutral</td>\n",
       "      <td>Do not match</td>\n",
       "    </tr>\n",
       "    <tr>\n",
       "      <th>4</th>\n",
       "      <td>IBN</td>\n",
       "      <td>2024-01-04 00:00:00</td>\n",
       "      <td>Higher Rates to Aid HSBC's Q3 Earnings, IB &amp;Tr...</td>\n",
       "      <td>neutral</td>\n",
       "      <td>0.531279</td>\n",
       "      <td>Positive</td>\n",
       "      <td>Do not match</td>\n",
       "    </tr>\n",
       "  </tbody>\n",
       "</table>\n",
       "</div>"
      ],
      "text/plain": [
       "  Company                 Date  \\\n",
       "0     IBN  2024-01-04 00:00:00   \n",
       "1     IBN  2024-01-04 00:00:00   \n",
       "2     IBN  2024-01-04 00:00:00   \n",
       "3     IBN  2024-01-04 00:00:00   \n",
       "4     IBN  2024-01-04 00:00:00   \n",
       "\n",
       "                                          tweet_text Azure label     Score  \\\n",
       "0  IBN Stock Earnings: ICICI Bank Reported Result...    positive  0.728372   \n",
       "1  IBN Stock Earnings: ICICI Bank Beats EPS for Q...    positive  0.769400   \n",
       "2   12 Asian Countries with the Best Quality of Life    positive  0.872366   \n",
       "3  Zacks Industry Outlook Highlights Mitsubishi U...    positive  0.602522   \n",
       "4  Higher Rates to Aid HSBC's Q3 Earnings, IB &Tr...     neutral  0.531279   \n",
       "\n",
       "  TextBlob Label   Comparision  \n",
       "0        Neutral  Do not match  \n",
       "1        Neutral  Do not match  \n",
       "2       Positive         Match  \n",
       "3        Neutral  Do not match  \n",
       "4       Positive  Do not match  "
      ]
     },
     "execution_count": 188,
     "metadata": {},
     "output_type": "execute_result"
    }
   ],
   "source": [
    "df = pd.read_excel('C:/Users/ujjaw/Desktop/Ujjawal/ISB/FP1/CompanyNewsHeadlines_ICICI_Consolidated.xls')\n",
    "df.head()\n"
   ]
  },
  {
   "cell_type": "code",
   "execution_count": 189,
   "id": "8fbcde60-a958-450c-8a2a-d4f0f0be5420",
   "metadata": {},
   "outputs": [
    {
     "data": {
      "text/html": [
       "<div>\n",
       "<style scoped>\n",
       "    .dataframe tbody tr th:only-of-type {\n",
       "        vertical-align: middle;\n",
       "    }\n",
       "\n",
       "    .dataframe tbody tr th {\n",
       "        vertical-align: top;\n",
       "    }\n",
       "\n",
       "    .dataframe thead th {\n",
       "        text-align: right;\n",
       "    }\n",
       "</style>\n",
       "<table border=\"1\" class=\"dataframe\">\n",
       "  <thead>\n",
       "    <tr style=\"text-align: right;\">\n",
       "      <th></th>\n",
       "      <th>Company</th>\n",
       "      <th>Date</th>\n",
       "      <th>tweet_text</th>\n",
       "      <th>Azure label</th>\n",
       "      <th>Score</th>\n",
       "      <th>TextBlob Label</th>\n",
       "      <th>Comparision</th>\n",
       "    </tr>\n",
       "  </thead>\n",
       "  <tbody>\n",
       "    <tr>\n",
       "      <th>0</th>\n",
       "      <td>IBN</td>\n",
       "      <td>2024-01-04 00:00:00</td>\n",
       "      <td>IBN Stock Earnings: ICICI Bank Reported Result...</td>\n",
       "      <td>positive</td>\n",
       "      <td>0.728372</td>\n",
       "      <td>Neutral</td>\n",
       "      <td>Do not match</td>\n",
       "    </tr>\n",
       "    <tr>\n",
       "      <th>1</th>\n",
       "      <td>IBN</td>\n",
       "      <td>2024-01-04 00:00:00</td>\n",
       "      <td>IBN Stock Earnings: ICICI Bank Beats EPS for Q...</td>\n",
       "      <td>positive</td>\n",
       "      <td>0.769400</td>\n",
       "      <td>Neutral</td>\n",
       "      <td>Do not match</td>\n",
       "    </tr>\n",
       "    <tr>\n",
       "      <th>2</th>\n",
       "      <td>IBN</td>\n",
       "      <td>2024-01-04 00:00:00</td>\n",
       "      <td>12 Asian Countries with the Best Quality of Life</td>\n",
       "      <td>positive</td>\n",
       "      <td>0.872366</td>\n",
       "      <td>Positive</td>\n",
       "      <td>Match</td>\n",
       "    </tr>\n",
       "    <tr>\n",
       "      <th>3</th>\n",
       "      <td>IBN</td>\n",
       "      <td>2024-01-04 00:00:00</td>\n",
       "      <td>Zacks Industry Outlook Highlights Mitsubishi U...</td>\n",
       "      <td>positive</td>\n",
       "      <td>0.602522</td>\n",
       "      <td>Neutral</td>\n",
       "      <td>Do not match</td>\n",
       "    </tr>\n",
       "    <tr>\n",
       "      <th>4</th>\n",
       "      <td>IBN</td>\n",
       "      <td>2024-01-04 00:00:00</td>\n",
       "      <td>Higher Rates to Aid HSBC's Q3 Earnings, IB &amp;Tr...</td>\n",
       "      <td>neutral</td>\n",
       "      <td>0.531279</td>\n",
       "      <td>Positive</td>\n",
       "      <td>Do not match</td>\n",
       "    </tr>\n",
       "    <tr>\n",
       "      <th>...</th>\n",
       "      <td>...</td>\n",
       "      <td>...</td>\n",
       "      <td>...</td>\n",
       "      <td>...</td>\n",
       "      <td>...</td>\n",
       "      <td>...</td>\n",
       "      <td>...</td>\n",
       "    </tr>\n",
       "    <tr>\n",
       "      <th>1495</th>\n",
       "      <td>Twitter</td>\n",
       "      <td>Nov 3, 2023 Â· 4:18 PM UTC</td>\n",
       "      <td>Sony Bravia 164 cm (65 inches) 4K Ultra HD Sma...</td>\n",
       "      <td>neutral</td>\n",
       "      <td>0.450014</td>\n",
       "      <td>Positive</td>\n",
       "      <td>Do not match</td>\n",
       "    </tr>\n",
       "    <tr>\n",
       "      <th>1496</th>\n",
       "      <td>Twitter</td>\n",
       "      <td>Nov 3, 2023 Â· 2:39 PM UTC</td>\n",
       "      <td>@Icicidirectcare @ICICIBank_Care @Vijaychandok...</td>\n",
       "      <td>positive</td>\n",
       "      <td>0.688278</td>\n",
       "      <td>Negative</td>\n",
       "      <td>Do not match</td>\n",
       "    </tr>\n",
       "    <tr>\n",
       "      <th>1497</th>\n",
       "      <td>Twitter</td>\n",
       "      <td>Nov 3, 2023 Â· 11:03 AM UTC</td>\n",
       "      <td>ðŸ‘‰ Buying a home could get expensive  ðŸ‘‰ U...</td>\n",
       "      <td>positive</td>\n",
       "      <td>0.739117</td>\n",
       "      <td>Negative</td>\n",
       "      <td>Do not match</td>\n",
       "    </tr>\n",
       "    <tr>\n",
       "      <th>1498</th>\n",
       "      <td>Twitter</td>\n",
       "      <td>Nov 3, 2023 Â· 10:56 AM UTC</td>\n",
       "      <td>Fraud #icici first Learn to respond customer c...</td>\n",
       "      <td>negative</td>\n",
       "      <td>0.424363</td>\n",
       "      <td>Negative</td>\n",
       "      <td>Match</td>\n",
       "    </tr>\n",
       "    <tr>\n",
       "      <th>1499</th>\n",
       "      <td>Twitter</td>\n",
       "      <td>Nov 3, 2023 Â· 10:50 AM UTC</td>\n",
       "      <td>@Icicidirectcare @ICICIBank_Care @Vijaychandok...</td>\n",
       "      <td>negative</td>\n",
       "      <td>0.132052</td>\n",
       "      <td>Negative</td>\n",
       "      <td>Match</td>\n",
       "    </tr>\n",
       "  </tbody>\n",
       "</table>\n",
       "<p>1500 rows × 7 columns</p>\n",
       "</div>"
      ],
      "text/plain": [
       "      Company                         Date  \\\n",
       "0         IBN          2024-01-04 00:00:00   \n",
       "1         IBN          2024-01-04 00:00:00   \n",
       "2         IBN          2024-01-04 00:00:00   \n",
       "3         IBN          2024-01-04 00:00:00   \n",
       "4         IBN          2024-01-04 00:00:00   \n",
       "...       ...                          ...   \n",
       "1495  Twitter   Nov 3, 2023 Â· 4:18 PM UTC   \n",
       "1496  Twitter   Nov 3, 2023 Â· 2:39 PM UTC   \n",
       "1497  Twitter  Nov 3, 2023 Â· 11:03 AM UTC   \n",
       "1498  Twitter  Nov 3, 2023 Â· 10:56 AM UTC   \n",
       "1499  Twitter  Nov 3, 2023 Â· 10:50 AM UTC   \n",
       "\n",
       "                                             tweet_text Azure label     Score  \\\n",
       "0     IBN Stock Earnings: ICICI Bank Reported Result...    positive  0.728372   \n",
       "1     IBN Stock Earnings: ICICI Bank Beats EPS for Q...    positive  0.769400   \n",
       "2      12 Asian Countries with the Best Quality of Life    positive  0.872366   \n",
       "3     Zacks Industry Outlook Highlights Mitsubishi U...    positive  0.602522   \n",
       "4     Higher Rates to Aid HSBC's Q3 Earnings, IB &Tr...     neutral  0.531279   \n",
       "...                                                 ...         ...       ...   \n",
       "1495  Sony Bravia 164 cm (65 inches) 4K Ultra HD Sma...     neutral  0.450014   \n",
       "1496  @Icicidirectcare @ICICIBank_Care @Vijaychandok...    positive  0.688278   \n",
       "1497  ðŸ‘‰ Buying a home could get expensive  ðŸ‘‰ U...    positive  0.739117   \n",
       "1498  Fraud #icici first Learn to respond customer c...    negative  0.424363   \n",
       "1499  @Icicidirectcare @ICICIBank_Care @Vijaychandok...    negative  0.132052   \n",
       "\n",
       "     TextBlob Label   Comparision  \n",
       "0           Neutral  Do not match  \n",
       "1           Neutral  Do not match  \n",
       "2          Positive         Match  \n",
       "3           Neutral  Do not match  \n",
       "4          Positive  Do not match  \n",
       "...             ...           ...  \n",
       "1495       Positive  Do not match  \n",
       "1496       Negative  Do not match  \n",
       "1497       Negative  Do not match  \n",
       "1498       Negative         Match  \n",
       "1499       Negative         Match  \n",
       "\n",
       "[1500 rows x 7 columns]"
      ]
     },
     "execution_count": 189,
     "metadata": {},
     "output_type": "execute_result"
    }
   ],
   "source": [
    "df.head(1500)"
   ]
  },
  {
   "cell_type": "code",
   "execution_count": 190,
   "id": "af9c5395-7690-4022-9f66-63ee61b7a451",
   "metadata": {},
   "outputs": [],
   "source": [
    "# Drop columns \n",
    "columns_to_drop = ['Company', 'Date','Score','TextBlob Label','Comparision']\n",
    "df = df.drop(columns=columns_to_drop)"
   ]
  },
  {
   "cell_type": "code",
   "execution_count": 191,
   "id": "e1baeefc-eb31-4884-8918-07965c113bab",
   "metadata": {},
   "outputs": [
    {
     "data": {
      "text/html": [
       "<div>\n",
       "<style scoped>\n",
       "    .dataframe tbody tr th:only-of-type {\n",
       "        vertical-align: middle;\n",
       "    }\n",
       "\n",
       "    .dataframe tbody tr th {\n",
       "        vertical-align: top;\n",
       "    }\n",
       "\n",
       "    .dataframe thead th {\n",
       "        text-align: right;\n",
       "    }\n",
       "</style>\n",
       "<table border=\"1\" class=\"dataframe\">\n",
       "  <thead>\n",
       "    <tr style=\"text-align: right;\">\n",
       "      <th></th>\n",
       "      <th>tweet_text</th>\n",
       "      <th>Azure label</th>\n",
       "    </tr>\n",
       "  </thead>\n",
       "  <tbody>\n",
       "    <tr>\n",
       "      <th>0</th>\n",
       "      <td>IBN Stock Earnings: ICICI Bank Reported Result...</td>\n",
       "      <td>positive</td>\n",
       "    </tr>\n",
       "    <tr>\n",
       "      <th>1</th>\n",
       "      <td>IBN Stock Earnings: ICICI Bank Beats EPS for Q...</td>\n",
       "      <td>positive</td>\n",
       "    </tr>\n",
       "    <tr>\n",
       "      <th>2</th>\n",
       "      <td>12 Asian Countries with the Best Quality of Life</td>\n",
       "      <td>positive</td>\n",
       "    </tr>\n",
       "    <tr>\n",
       "      <th>3</th>\n",
       "      <td>Zacks Industry Outlook Highlights Mitsubishi U...</td>\n",
       "      <td>positive</td>\n",
       "    </tr>\n",
       "    <tr>\n",
       "      <th>4</th>\n",
       "      <td>Higher Rates to Aid HSBC's Q3 Earnings, IB &amp;Tr...</td>\n",
       "      <td>neutral</td>\n",
       "    </tr>\n",
       "    <tr>\n",
       "      <th>...</th>\n",
       "      <td>...</td>\n",
       "      <td>...</td>\n",
       "    </tr>\n",
       "    <tr>\n",
       "      <th>1863</th>\n",
       "      <td>#ICICI #LOMBARD #GENERAL #INSURANCE: Q2  NET P...</td>\n",
       "      <td>positive</td>\n",
       "    </tr>\n",
       "    <tr>\n",
       "      <th>1864</th>\n",
       "      <td>ICICI Bank violates norms relating to Loans an...</td>\n",
       "      <td>positive</td>\n",
       "    </tr>\n",
       "    <tr>\n",
       "      <th>1865</th>\n",
       "      <td>RBI issues penalties worth 17cr to ICICI Bank ...</td>\n",
       "      <td>positive</td>\n",
       "    </tr>\n",
       "    <tr>\n",
       "      <th>1866</th>\n",
       "      <td>I have already sent my contact number. Note th...</td>\n",
       "      <td>negative</td>\n",
       "    </tr>\n",
       "    <tr>\n",
       "      <th>1867</th>\n",
       "      <td>à¤¨à¥à¤•à¤¸à¤¾à¤¨à¥€à¤šà¥à¤¯à¤¾ à¤¸à¤°à¥à¤µ...</td>\n",
       "      <td>positive</td>\n",
       "    </tr>\n",
       "  </tbody>\n",
       "</table>\n",
       "<p>1868 rows × 2 columns</p>\n",
       "</div>"
      ],
      "text/plain": [
       "                                             tweet_text Azure label\n",
       "0     IBN Stock Earnings: ICICI Bank Reported Result...    positive\n",
       "1     IBN Stock Earnings: ICICI Bank Beats EPS for Q...    positive\n",
       "2      12 Asian Countries with the Best Quality of Life    positive\n",
       "3     Zacks Industry Outlook Highlights Mitsubishi U...    positive\n",
       "4     Higher Rates to Aid HSBC's Q3 Earnings, IB &Tr...     neutral\n",
       "...                                                 ...         ...\n",
       "1863  #ICICI #LOMBARD #GENERAL #INSURANCE: Q2  NET P...    positive\n",
       "1864  ICICI Bank violates norms relating to Loans an...    positive\n",
       "1865  RBI issues penalties worth 17cr to ICICI Bank ...    positive\n",
       "1866  I have already sent my contact number. Note th...    negative\n",
       "1867  à¤¨à¥à¤•à¤¸à¤¾à¤¨à¥€à¤šà¥à¤¯à¤¾ à¤¸à¤°à¥à¤µ...    positive\n",
       "\n",
       "[1868 rows x 2 columns]"
      ]
     },
     "execution_count": 191,
     "metadata": {},
     "output_type": "execute_result"
    }
   ],
   "source": [
    "df"
   ]
  },
  {
   "cell_type": "code",
   "execution_count": 192,
   "id": "66ce5e2c-e1b6-49be-be9d-759e726a8403",
   "metadata": {},
   "outputs": [
    {
     "data": {
      "text/plain": [
       "Azure label\n",
       "positive    1049\n",
       "neutral      419\n",
       "negative     400\n",
       "Name: count, dtype: int64"
      ]
     },
     "execution_count": 192,
     "metadata": {},
     "output_type": "execute_result"
    }
   ],
   "source": [
    "df['Azure label'].value_counts()"
   ]
  },
  {
   "cell_type": "code",
   "execution_count": 193,
   "id": "dbaca226-6835-4b57-8002-ffd0e16a31d1",
   "metadata": {},
   "outputs": [],
   "source": [
    "# check for null values\n",
    "df.isnull().sum()\n",
    "df=df.dropna()\n",
    "df = df.reset_index(drop=True)\n",
    "\n",
    "# no null values in the data"
   ]
  },
  {
   "cell_type": "code",
   "execution_count": 194,
   "id": "ed8c1420-24aa-475c-b0bd-9d1ae4250183",
   "metadata": {},
   "outputs": [],
   "source": [
    "####2) Data Cleaning\n",
    "# here we will remove stopwords, punctuations\n",
    "# as well as we will apply lemmatization"
   ]
  },
  {
   "cell_type": "code",
   "execution_count": 195,
   "id": "1d738fed-4125-43eb-9252-54e1fc7d7a8a",
   "metadata": {},
   "outputs": [
    {
     "data": {
      "text/plain": [
       "'The six-member monetary policy committee kept repo rates unchanged at 6.5 percent in the December meeting...'"
      ]
     },
     "execution_count": 195,
     "metadata": {},
     "output_type": "execute_result"
    }
   ],
   "source": [
    "import re\n",
    "clean =  re.compile('<.*?>')\n",
    "re.sub(clean,'',df.iloc[200].tweet_text)"
   ]
  },
  {
   "cell_type": "code",
   "execution_count": 196,
   "id": "268a051f-f6e4-4040-aaf8-a5b61fb16ec1",
   "metadata": {},
   "outputs": [],
   "source": [
    "def clean_html(text):\n",
    "    clean =  re.compile('<.*?>')\n",
    "    return  re.sub(clean, '' , text)"
   ]
  },
  {
   "cell_type": "code",
   "execution_count": 197,
   "id": "98c56215-ef4c-43dd-a82c-7792ab7a76d4",
   "metadata": {},
   "outputs": [],
   "source": [
    "df['tweet_text'] = df['tweet_text'].apply(clean_html)"
   ]
  },
  {
   "cell_type": "code",
   "execution_count": 198,
   "id": "6b9b6a7e-586f-4803-a3ac-bef966a6e0b6",
   "metadata": {},
   "outputs": [],
   "source": [
    "##function to remove special character. \n",
    "\n",
    "def remove_special(tweet_text):\n",
    "    if tweet_text is None:\n",
    "        return None\n",
    "    x=''\n",
    "\n",
    "    for  i in tweet_text:\n",
    "        if i.isalnum():\n",
    "            x=x+i\n",
    "        elif i.isspace():\n",
    "            x=x+' '\n",
    "        else:\n",
    "            x=x +  ''\n",
    "    return x"
   ]
  },
  {
   "cell_type": "code",
   "execution_count": 199,
   "id": "1ee05f0f-114e-4c0f-9495-364f77e47ce5",
   "metadata": {},
   "outputs": [],
   "source": [
    "df['tweet_text'] = df['tweet_text'].apply(remove_special)"
   ]
  },
  {
   "cell_type": "code",
   "execution_count": 200,
   "id": "b313e752-be5f-4a28-bdd5-19ad87c49651",
   "metadata": {},
   "outputs": [
    {
     "name": "stdout",
     "output_type": "stream",
     "text": [
      "Original Text: à¤¨à¥à¤•à¤¸à¤¾à¤¨à¥€à¤&^%^%$^šà¥à¤¯à¤¾ à¤¸à¤°à¥à¤\n",
      "Cleaned Text: &^%^%$^ \n"
     ]
    }
   ],
   "source": [
    "import re\n",
    "\n",
    "def remove_non_ascii(text):\n",
    "    return re.sub(r'[^\\x00-\\x7F]+', '', text)\n",
    "\n",
    "# Example usage\n",
    "original_text = \"à¤¨à¥à¤•à¤¸à¤¾à¤¨à¥€à¤&^%^%$^šà¥à¤¯à¤¾ à¤¸à¤°à¥à¤\"\n",
    "cleaned_text = remove_non_ascii(original_text)\n",
    "\n",
    "print(\"Original Text:\", original_text)\n",
    "print(\"Cleaned Text:\", cleaned_text)"
   ]
  },
  {
   "cell_type": "code",
   "execution_count": 201,
   "id": "bf1b66ea-7059-4bf0-ab00-f1e49ed83e85",
   "metadata": {},
   "outputs": [],
   "source": [
    "df['tweet_text'] = df['tweet_text'].apply(remove_non_ascii)"
   ]
  },
  {
   "cell_type": "code",
   "execution_count": 202,
   "id": "2fc2cfea-5963-485c-a6a1-240547d1d007",
   "metadata": {},
   "outputs": [
    {
     "data": {
      "text/html": [
       "<div>\n",
       "<style scoped>\n",
       "    .dataframe tbody tr th:only-of-type {\n",
       "        vertical-align: middle;\n",
       "    }\n",
       "\n",
       "    .dataframe tbody tr th {\n",
       "        vertical-align: top;\n",
       "    }\n",
       "\n",
       "    .dataframe thead th {\n",
       "        text-align: right;\n",
       "    }\n",
       "</style>\n",
       "<table border=\"1\" class=\"dataframe\">\n",
       "  <thead>\n",
       "    <tr style=\"text-align: right;\">\n",
       "      <th></th>\n",
       "      <th>tweet_text</th>\n",
       "      <th>Azure label</th>\n",
       "    </tr>\n",
       "  </thead>\n",
       "  <tbody>\n",
       "    <tr>\n",
       "      <th>0</th>\n",
       "      <td>IBN Stock Earnings ICICI Bank Reported Results...</td>\n",
       "      <td>positive</td>\n",
       "    </tr>\n",
       "    <tr>\n",
       "      <th>1</th>\n",
       "      <td>IBN Stock Earnings ICICI Bank Beats EPS for Q1...</td>\n",
       "      <td>positive</td>\n",
       "    </tr>\n",
       "    <tr>\n",
       "      <th>2</th>\n",
       "      <td>12 Asian Countries with the Best Quality of Life</td>\n",
       "      <td>positive</td>\n",
       "    </tr>\n",
       "    <tr>\n",
       "      <th>3</th>\n",
       "      <td>Zacks Industry Outlook Highlights Mitsubishi U...</td>\n",
       "      <td>positive</td>\n",
       "    </tr>\n",
       "    <tr>\n",
       "      <th>4</th>\n",
       "      <td>Higher Rates to Aid HSBCs Q3 Earnings IB Tradi...</td>\n",
       "      <td>neutral</td>\n",
       "    </tr>\n",
       "    <tr>\n",
       "      <th>...</th>\n",
       "      <td>...</td>\n",
       "      <td>...</td>\n",
       "    </tr>\n",
       "    <tr>\n",
       "      <th>1863</th>\n",
       "      <td>ICICI LOMBARD GENERAL INSURANCE Q2  NET PROFIT...</td>\n",
       "      <td>positive</td>\n",
       "    </tr>\n",
       "    <tr>\n",
       "      <th>1864</th>\n",
       "      <td>ICICI Bank violates norms relating to Loans an...</td>\n",
       "      <td>positive</td>\n",
       "    </tr>\n",
       "    <tr>\n",
       "      <th>1865</th>\n",
       "      <td>RBI issues penalties worth 17cr to ICICI Bank ...</td>\n",
       "      <td>positive</td>\n",
       "    </tr>\n",
       "    <tr>\n",
       "      <th>1866</th>\n",
       "      <td>I have already sent my contact number Note tha...</td>\n",
       "      <td>negative</td>\n",
       "    </tr>\n",
       "    <tr>\n",
       "      <th>1867</th>\n",
       "      <td>ICICI          httpsnews15marathicombyfo...</td>\n",
       "      <td>positive</td>\n",
       "    </tr>\n",
       "  </tbody>\n",
       "</table>\n",
       "<p>1868 rows × 2 columns</p>\n",
       "</div>"
      ],
      "text/plain": [
       "                                             tweet_text Azure label\n",
       "0     IBN Stock Earnings ICICI Bank Reported Results...    positive\n",
       "1     IBN Stock Earnings ICICI Bank Beats EPS for Q1...    positive\n",
       "2      12 Asian Countries with the Best Quality of Life    positive\n",
       "3     Zacks Industry Outlook Highlights Mitsubishi U...    positive\n",
       "4     Higher Rates to Aid HSBCs Q3 Earnings IB Tradi...     neutral\n",
       "...                                                 ...         ...\n",
       "1863  ICICI LOMBARD GENERAL INSURANCE Q2  NET PROFIT...    positive\n",
       "1864  ICICI Bank violates norms relating to Loans an...    positive\n",
       "1865  RBI issues penalties worth 17cr to ICICI Bank ...    positive\n",
       "1866  I have already sent my contact number Note tha...    negative\n",
       "1867        ICICI          httpsnews15marathicombyfo...    positive\n",
       "\n",
       "[1868 rows x 2 columns]"
      ]
     },
     "execution_count": 202,
     "metadata": {},
     "output_type": "execute_result"
    }
   ],
   "source": [
    "df"
   ]
  },
  {
   "cell_type": "code",
   "execution_count": 203,
   "id": "41e9e594-8bee-4897-85bd-d35bfa0c44b2",
   "metadata": {},
   "outputs": [
    {
     "data": {
      "text/html": [
       "<div>\n",
       "<style scoped>\n",
       "    .dataframe tbody tr th:only-of-type {\n",
       "        vertical-align: middle;\n",
       "    }\n",
       "\n",
       "    .dataframe tbody tr th {\n",
       "        vertical-align: top;\n",
       "    }\n",
       "\n",
       "    .dataframe thead th {\n",
       "        text-align: right;\n",
       "    }\n",
       "</style>\n",
       "<table border=\"1\" class=\"dataframe\">\n",
       "  <thead>\n",
       "    <tr style=\"text-align: right;\">\n",
       "      <th></th>\n",
       "      <th>tweet_text</th>\n",
       "      <th>Azure label</th>\n",
       "    </tr>\n",
       "  </thead>\n",
       "  <tbody>\n",
       "    <tr>\n",
       "      <th>count</th>\n",
       "      <td>1868</td>\n",
       "      <td>1868</td>\n",
       "    </tr>\n",
       "    <tr>\n",
       "      <th>unique</th>\n",
       "      <td>1443</td>\n",
       "      <td>3</td>\n",
       "    </tr>\n",
       "    <tr>\n",
       "      <th>top</th>\n",
       "      <td>The banks asset quality improved as the gross ...</td>\n",
       "      <td>positive</td>\n",
       "    </tr>\n",
       "    <tr>\n",
       "      <th>freq</th>\n",
       "      <td>45</td>\n",
       "      <td>1049</td>\n",
       "    </tr>\n",
       "  </tbody>\n",
       "</table>\n",
       "</div>"
      ],
      "text/plain": [
       "                                               tweet_text Azure label\n",
       "count                                                1868        1868\n",
       "unique                                               1443           3\n",
       "top     The banks asset quality improved as the gross ...    positive\n",
       "freq                                                   45        1049"
      ]
     },
     "execution_count": 203,
     "metadata": {},
     "output_type": "execute_result"
    }
   ],
   "source": [
    "df.describe()"
   ]
  },
  {
   "cell_type": "code",
   "execution_count": 204,
   "id": "71d1cab6-40b9-4adc-9363-ad85634c8d38",
   "metadata": {},
   "outputs": [],
   "source": [
    "from bs4 import BeautifulSoup\n",
    "import re"
   ]
  },
  {
   "cell_type": "code",
   "execution_count": 205,
   "id": "ecc9c1c2-e1fd-4f53-936d-c1a90cec6036",
   "metadata": {},
   "outputs": [],
   "source": [
    "df['tweet_text'] = df['tweet_text'].apply(lambda x: BeautifulSoup(x).get_text())\n",
    "df['tweet_text'] = df['tweet_text'].apply(lambda x: re.sub(r'http\\S+', '', x))"
   ]
  },
  {
   "cell_type": "code",
   "execution_count": 206,
   "id": "99b6fed3-8959-49b5-8d92-9ce6ac779250",
   "metadata": {},
   "outputs": [],
   "source": [
    "import re\n",
    "\n",
    "def contractions(s):\n",
    "    s = re.sub(r\"won't\", 'will not', s)\n",
    "    s = re.sub(r\"wouldn't\", 'would not', s)\n",
    "    s = re.sub(r\"couldn't\", 'could not', s)\n",
    "    s = re.sub(r\"can't\", 'can not', s)\n",
    "    s = re.sub(r\"n't\", ' not', s)\n",
    "    s = re.sub(r\"'d\", ' would', s)\n",
    "    s = re.sub(r\"'re\", ' are', s)\n",
    "    s = re.sub(r\"'s\", ' is', s)\n",
    "    s = re.sub(r\"'ll\", ' will', s)\n",
    "    s = re.sub(r\"'t\", ' not', s)\n",
    "    s = re.sub(r\"'ve\", ' have', s)\n",
    "    s = re.sub(r\"'m\", ' am', s)\n",
    "    return s\n",
    "\n",
    "# Assuming 'tweet_text' is the column containing text data in your DataFrame\n",
    "df['tweet_text'] = df['tweet_text'].apply(contractions)"
   ]
  },
  {
   "cell_type": "code",
   "execution_count": 207,
   "id": "934a7cab-87fc-4766-9909-21519afce7e1",
   "metadata": {},
   "outputs": [
    {
     "data": {
      "text/html": [
       "<div>\n",
       "<style scoped>\n",
       "    .dataframe tbody tr th:only-of-type {\n",
       "        vertical-align: middle;\n",
       "    }\n",
       "\n",
       "    .dataframe tbody tr th {\n",
       "        vertical-align: top;\n",
       "    }\n",
       "\n",
       "    .dataframe thead th {\n",
       "        text-align: right;\n",
       "    }\n",
       "</style>\n",
       "<table border=\"1\" class=\"dataframe\">\n",
       "  <thead>\n",
       "    <tr style=\"text-align: right;\">\n",
       "      <th></th>\n",
       "      <th>tweet_text</th>\n",
       "      <th>Azure label</th>\n",
       "    </tr>\n",
       "  </thead>\n",
       "  <tbody>\n",
       "    <tr>\n",
       "      <th>0</th>\n",
       "      <td>IBN Stock Earnings ICICI Bank Reported Results...</td>\n",
       "      <td>positive</td>\n",
       "    </tr>\n",
       "    <tr>\n",
       "      <th>1</th>\n",
       "      <td>IBN Stock Earnings ICICI Bank Beats EPS for Q1...</td>\n",
       "      <td>positive</td>\n",
       "    </tr>\n",
       "    <tr>\n",
       "      <th>2</th>\n",
       "      <td>12 Asian Countries with the Best Quality of Life</td>\n",
       "      <td>positive</td>\n",
       "    </tr>\n",
       "    <tr>\n",
       "      <th>3</th>\n",
       "      <td>Zacks Industry Outlook Highlights Mitsubishi U...</td>\n",
       "      <td>positive</td>\n",
       "    </tr>\n",
       "    <tr>\n",
       "      <th>4</th>\n",
       "      <td>Higher Rates to Aid HSBCs Q3 Earnings IB Tradi...</td>\n",
       "      <td>neutral</td>\n",
       "    </tr>\n",
       "    <tr>\n",
       "      <th>...</th>\n",
       "      <td>...</td>\n",
       "      <td>...</td>\n",
       "    </tr>\n",
       "    <tr>\n",
       "      <th>1863</th>\n",
       "      <td>ICICI LOMBARD GENERAL INSURANCE Q2  NET PROFIT...</td>\n",
       "      <td>positive</td>\n",
       "    </tr>\n",
       "    <tr>\n",
       "      <th>1864</th>\n",
       "      <td>ICICI Bank violates norms relating to Loans an...</td>\n",
       "      <td>positive</td>\n",
       "    </tr>\n",
       "    <tr>\n",
       "      <th>1865</th>\n",
       "      <td>RBI issues penalties worth 17cr to ICICI Bank ...</td>\n",
       "      <td>positive</td>\n",
       "    </tr>\n",
       "    <tr>\n",
       "      <th>1866</th>\n",
       "      <td>I have already sent my contact number Note tha...</td>\n",
       "      <td>negative</td>\n",
       "    </tr>\n",
       "    <tr>\n",
       "      <th>1867</th>\n",
       "      <td>ICICI</td>\n",
       "      <td>positive</td>\n",
       "    </tr>\n",
       "  </tbody>\n",
       "</table>\n",
       "<p>1868 rows × 2 columns</p>\n",
       "</div>"
      ],
      "text/plain": [
       "                                             tweet_text Azure label\n",
       "0     IBN Stock Earnings ICICI Bank Reported Results...    positive\n",
       "1     IBN Stock Earnings ICICI Bank Beats EPS for Q1...    positive\n",
       "2      12 Asian Countries with the Best Quality of Life    positive\n",
       "3     Zacks Industry Outlook Highlights Mitsubishi U...    positive\n",
       "4     Higher Rates to Aid HSBCs Q3 Earnings IB Tradi...     neutral\n",
       "...                                                 ...         ...\n",
       "1863  ICICI LOMBARD GENERAL INSURANCE Q2  NET PROFIT...    positive\n",
       "1864  ICICI Bank violates norms relating to Loans an...    positive\n",
       "1865  RBI issues penalties worth 17cr to ICICI Bank ...    positive\n",
       "1866  I have already sent my contact number Note tha...    negative\n",
       "1867                                    ICICI              positive\n",
       "\n",
       "[1868 rows x 2 columns]"
      ]
     },
     "execution_count": 207,
     "metadata": {},
     "output_type": "execute_result"
    }
   ],
   "source": [
    "df"
   ]
  },
  {
   "cell_type": "code",
   "execution_count": 208,
   "id": "940aa4fa-0a77-44db-8671-a24fd91bf18c",
   "metadata": {},
   "outputs": [],
   "source": [
    "import nltk"
   ]
  },
  {
   "cell_type": "code",
   "execution_count": 209,
   "id": "188776be-5ebb-4d94-aa16-e75515927763",
   "metadata": {},
   "outputs": [],
   "source": [
    "df['tweet_text']=df['tweet_text'].apply(lambda x: ' '.join([re.sub('[^A-Za-z]+','', x) for x in nltk.word_tokenize(x)]))"
   ]
  },
  {
   "cell_type": "code",
   "execution_count": 210,
   "id": "4d21571b-5277-4b98-a941-5578022e686a",
   "metadata": {},
   "outputs": [
    {
     "data": {
      "text/html": [
       "<div>\n",
       "<style scoped>\n",
       "    .dataframe tbody tr th:only-of-type {\n",
       "        vertical-align: middle;\n",
       "    }\n",
       "\n",
       "    .dataframe tbody tr th {\n",
       "        vertical-align: top;\n",
       "    }\n",
       "\n",
       "    .dataframe thead th {\n",
       "        text-align: right;\n",
       "    }\n",
       "</style>\n",
       "<table border=\"1\" class=\"dataframe\">\n",
       "  <thead>\n",
       "    <tr style=\"text-align: right;\">\n",
       "      <th></th>\n",
       "      <th>tweet_text</th>\n",
       "      <th>Azure label</th>\n",
       "    </tr>\n",
       "  </thead>\n",
       "  <tbody>\n",
       "    <tr>\n",
       "      <th>0</th>\n",
       "      <td>IBN Stock Earnings ICICI Bank Reported Results...</td>\n",
       "      <td>positive</td>\n",
       "    </tr>\n",
       "    <tr>\n",
       "      <th>1</th>\n",
       "      <td>IBN Stock Earnings ICICI Bank Beats EPS for Q</td>\n",
       "      <td>positive</td>\n",
       "    </tr>\n",
       "    <tr>\n",
       "      <th>2</th>\n",
       "      <td>Asian Countries with the Best Quality of Life</td>\n",
       "      <td>positive</td>\n",
       "    </tr>\n",
       "    <tr>\n",
       "      <th>3</th>\n",
       "      <td>Zacks Industry Outlook Highlights Mitsubishi U...</td>\n",
       "      <td>positive</td>\n",
       "    </tr>\n",
       "    <tr>\n",
       "      <th>4</th>\n",
       "      <td>Higher Rates to Aid HSBCs Q Earnings IB Tradin...</td>\n",
       "      <td>neutral</td>\n",
       "    </tr>\n",
       "    <tr>\n",
       "      <th>...</th>\n",
       "      <td>...</td>\n",
       "      <td>...</td>\n",
       "    </tr>\n",
       "    <tr>\n",
       "      <th>1863</th>\n",
       "      <td>ICICI LOMBARD GENERAL INSURANCE Q NET PROFIT B...</td>\n",
       "      <td>positive</td>\n",
       "    </tr>\n",
       "    <tr>\n",
       "      <th>1864</th>\n",
       "      <td>ICICI Bank violates norms relating to Loans an...</td>\n",
       "      <td>positive</td>\n",
       "    </tr>\n",
       "    <tr>\n",
       "      <th>1865</th>\n",
       "      <td>RBI issues penalties worth cr to ICICI Bank an...</td>\n",
       "      <td>positive</td>\n",
       "    </tr>\n",
       "    <tr>\n",
       "      <th>1866</th>\n",
       "      <td>I have already sent my contact number Note tha...</td>\n",
       "      <td>negative</td>\n",
       "    </tr>\n",
       "    <tr>\n",
       "      <th>1867</th>\n",
       "      <td>ICICI</td>\n",
       "      <td>positive</td>\n",
       "    </tr>\n",
       "  </tbody>\n",
       "</table>\n",
       "<p>1868 rows × 2 columns</p>\n",
       "</div>"
      ],
      "text/plain": [
       "                                             tweet_text Azure label\n",
       "0     IBN Stock Earnings ICICI Bank Reported Results...    positive\n",
       "1        IBN Stock Earnings ICICI Bank Beats EPS for Q     positive\n",
       "2         Asian Countries with the Best Quality of Life    positive\n",
       "3     Zacks Industry Outlook Highlights Mitsubishi U...    positive\n",
       "4     Higher Rates to Aid HSBCs Q Earnings IB Tradin...     neutral\n",
       "...                                                 ...         ...\n",
       "1863  ICICI LOMBARD GENERAL INSURANCE Q NET PROFIT B...    positive\n",
       "1864  ICICI Bank violates norms relating to Loans an...    positive\n",
       "1865  RBI issues penalties worth cr to ICICI Bank an...    positive\n",
       "1866  I have already sent my contact number Note tha...    negative\n",
       "1867                                              ICICI    positive\n",
       "\n",
       "[1868 rows x 2 columns]"
      ]
     },
     "execution_count": 210,
     "metadata": {},
     "output_type": "execute_result"
    }
   ],
   "source": [
    "df"
   ]
  },
  {
   "cell_type": "code",
   "execution_count": 211,
   "id": "2462481a-1a08-42ab-8590-94b93c17ab8a",
   "metadata": {},
   "outputs": [],
   "source": [
    "df['tweet_text']=df['tweet_text'].apply(lambda x: re.sub(' +', ' ', x))"
   ]
  },
  {
   "cell_type": "code",
   "execution_count": 212,
   "id": "d7339ea8-6e92-4659-9a15-dd9b26b1ad38",
   "metadata": {},
   "outputs": [
    {
     "data": {
      "text/html": [
       "<div>\n",
       "<style scoped>\n",
       "    .dataframe tbody tr th:only-of-type {\n",
       "        vertical-align: middle;\n",
       "    }\n",
       "\n",
       "    .dataframe tbody tr th {\n",
       "        vertical-align: top;\n",
       "    }\n",
       "\n",
       "    .dataframe thead th {\n",
       "        text-align: right;\n",
       "    }\n",
       "</style>\n",
       "<table border=\"1\" class=\"dataframe\">\n",
       "  <thead>\n",
       "    <tr style=\"text-align: right;\">\n",
       "      <th></th>\n",
       "      <th>tweet_text</th>\n",
       "      <th>Azure label</th>\n",
       "    </tr>\n",
       "  </thead>\n",
       "  <tbody>\n",
       "    <tr>\n",
       "      <th>0</th>\n",
       "      <td>IBN Stock Earnings ICICI Bank Reported Results...</td>\n",
       "      <td>positive</td>\n",
       "    </tr>\n",
       "    <tr>\n",
       "      <th>1</th>\n",
       "      <td>IBN Stock Earnings ICICI Bank Beats EPS for Q</td>\n",
       "      <td>positive</td>\n",
       "    </tr>\n",
       "    <tr>\n",
       "      <th>2</th>\n",
       "      <td>Asian Countries with the Best Quality of Life</td>\n",
       "      <td>positive</td>\n",
       "    </tr>\n",
       "    <tr>\n",
       "      <th>3</th>\n",
       "      <td>Zacks Industry Outlook Highlights Mitsubishi U...</td>\n",
       "      <td>positive</td>\n",
       "    </tr>\n",
       "    <tr>\n",
       "      <th>4</th>\n",
       "      <td>Higher Rates to Aid HSBCs Q Earnings IB Tradin...</td>\n",
       "      <td>neutral</td>\n",
       "    </tr>\n",
       "    <tr>\n",
       "      <th>...</th>\n",
       "      <td>...</td>\n",
       "      <td>...</td>\n",
       "    </tr>\n",
       "    <tr>\n",
       "      <th>1863</th>\n",
       "      <td>ICICI LOMBARD GENERAL INSURANCE Q NET PROFIT B...</td>\n",
       "      <td>positive</td>\n",
       "    </tr>\n",
       "    <tr>\n",
       "      <th>1864</th>\n",
       "      <td>ICICI Bank violates norms relating to Loans an...</td>\n",
       "      <td>positive</td>\n",
       "    </tr>\n",
       "    <tr>\n",
       "      <th>1865</th>\n",
       "      <td>RBI issues penalties worth cr to ICICI Bank an...</td>\n",
       "      <td>positive</td>\n",
       "    </tr>\n",
       "    <tr>\n",
       "      <th>1866</th>\n",
       "      <td>I have already sent my contact number Note tha...</td>\n",
       "      <td>negative</td>\n",
       "    </tr>\n",
       "    <tr>\n",
       "      <th>1867</th>\n",
       "      <td>ICICI</td>\n",
       "      <td>positive</td>\n",
       "    </tr>\n",
       "  </tbody>\n",
       "</table>\n",
       "<p>1868 rows × 2 columns</p>\n",
       "</div>"
      ],
      "text/plain": [
       "                                             tweet_text Azure label\n",
       "0     IBN Stock Earnings ICICI Bank Reported Results...    positive\n",
       "1        IBN Stock Earnings ICICI Bank Beats EPS for Q     positive\n",
       "2         Asian Countries with the Best Quality of Life    positive\n",
       "3     Zacks Industry Outlook Highlights Mitsubishi U...    positive\n",
       "4     Higher Rates to Aid HSBCs Q Earnings IB Tradin...     neutral\n",
       "...                                                 ...         ...\n",
       "1863  ICICI LOMBARD GENERAL INSURANCE Q NET PROFIT B...    positive\n",
       "1864  ICICI Bank violates norms relating to Loans an...    positive\n",
       "1865  RBI issues penalties worth cr to ICICI Bank an...    positive\n",
       "1866  I have already sent my contact number Note tha...    negative\n",
       "1867                                              ICICI    positive\n",
       "\n",
       "[1868 rows x 2 columns]"
      ]
     },
     "execution_count": 212,
     "metadata": {},
     "output_type": "execute_result"
    }
   ],
   "source": [
    "df"
   ]
  },
  {
   "cell_type": "code",
   "execution_count": 213,
   "id": "49835fd0-81d0-4d15-ba07-8a8940f54ee1",
   "metadata": {},
   "outputs": [
    {
     "data": {
      "text/plain": [
       "0       IBN Stock Earnings ICICI Bank Reported Results...\n",
       "1          IBN Stock Earnings ICICI Bank Beats EPS for Q \n",
       "2           Asian Countries with the Best Quality of Life\n",
       "3       Zacks Industry Outlook Highlights Mitsubishi U...\n",
       "4       Higher Rates to Aid HSBCs Q Earnings IB Tradin...\n",
       "                              ...                        \n",
       "1863    ICICI LOMBARD GENERAL INSURANCE Q NET PROFIT B...\n",
       "1864    ICICI Bank violates norms relating to Loans an...\n",
       "1865    RBI issues penalties worth cr to ICICI Bank an...\n",
       "1866    I have already sent my contact number Note tha...\n",
       "1867                                                ICICI\n",
       "Name: tweet_text, Length: 1868, dtype: object"
      ]
     },
     "execution_count": 213,
     "metadata": {},
     "output_type": "execute_result"
    }
   ],
   "source": [
    "df['tweet_text']"
   ]
  },
  {
   "cell_type": "code",
   "execution_count": 214,
   "id": "3312eaa9-90ff-4b89-8434-a8f00d884bf5",
   "metadata": {},
   "outputs": [],
   "source": [
    "import string"
   ]
  },
  {
   "cell_type": "code",
   "execution_count": 215,
   "id": "69a02e7b-526c-48a4-8eed-4455195ee30c",
   "metadata": {},
   "outputs": [],
   "source": [
    "punct = string.punctuation"
   ]
  },
  {
   "cell_type": "code",
   "execution_count": 216,
   "id": "ede0e556-5b6f-4d9d-af31-448c2887da1d",
   "metadata": {},
   "outputs": [
    {
     "data": {
      "text/plain": [
       "'!\"#$%&\\'()*+,-./:;<=>?@[\\\\]^_`{|}~'"
      ]
     },
     "execution_count": 216,
     "metadata": {},
     "output_type": "execute_result"
    }
   ],
   "source": [
    "punct"
   ]
  },
  {
   "cell_type": "code",
   "execution_count": 217,
   "id": "e1a17a8b-0f64-4be0-9ae9-bd3d9beeb1ec",
   "metadata": {},
   "outputs": [],
   "source": [
    "from spacy.lang.en.stop_words import STOP_WORDS"
   ]
  },
  {
   "cell_type": "code",
   "execution_count": 218,
   "id": "5583d084-fb15-4803-8f5c-eb7203454aa8",
   "metadata": {},
   "outputs": [],
   "source": [
    "stopwords = list(STOP_WORDS) # list of stopwords"
   ]
  },
  {
   "cell_type": "code",
   "execution_count": 219,
   "id": "f9c196d0-a76a-4638-b1ee-b577025659d1",
   "metadata": {},
   "outputs": [],
   "source": [
    "# creating a function for data cleaning"
   ]
  },
  {
   "cell_type": "code",
   "execution_count": 220,
   "id": "fa9d5c74-104a-4d84-a2d2-528a1e44cd42",
   "metadata": {},
   "outputs": [],
   "source": [
    "def text_data_cleaning(sentence):\n",
    "  doc = nlp(sentence)\n",
    "\n",
    "  tokens = [] # list of tokens\n",
    "  for token in doc:\n",
    "    if token.lemma_ != \"-PRON-\":\n",
    "      temp = token.lemma_.lower().strip()\n",
    "    else:\n",
    "      temp = token.lower_\n",
    "    tokens.append(temp)\n",
    " \n",
    "  cleaned_tokens = []\n",
    "  for token in tokens:\n",
    "    if token not in stopwords and token not in punct:\n",
    "      cleaned_tokens.append(token)\n",
    "  return cleaned_tokens"
   ]
  },
  {
   "cell_type": "code",
   "execution_count": 221,
   "id": "5b3a9700-c3ef-45a1-a0d9-1de6ddf8093f",
   "metadata": {},
   "outputs": [],
   "source": [
    "# if root form of that word is not pronoun then it is going to convert that into lower form\n",
    "# and if that word is a proper noun, then we are directly taking lower form, because there is no lemma for proper noun"
   ]
  },
  {
   "cell_type": "code",
   "execution_count": 222,
   "id": "3da41ae7-1185-4de0-b9a3-888bddd2bc61",
   "metadata": {},
   "outputs": [
    {
     "data": {
      "text/plain": [
       "['hello', 'beautiful', 'day', 'outside']"
      ]
     },
     "execution_count": 222,
     "metadata": {},
     "output_type": "execute_result"
    }
   ],
   "source": [
    "text_data_cleaning(\"Hello all, It's a beautiful day outside there!\")\n",
    "# stopwords and punctuations removed"
   ]
  },
  {
   "cell_type": "code",
   "execution_count": 223,
   "id": "869106a3-9690-4ac5-98ce-9e7fc037d36c",
   "metadata": {},
   "outputs": [],
   "source": [
    "df['tweet_text'] = df['tweet_text'].apply(text_data_cleaning)"
   ]
  },
  {
   "cell_type": "code",
   "execution_count": 224,
   "id": "ec9b8c61-a09b-4acf-a20e-c45b47edcb07",
   "metadata": {},
   "outputs": [
    {
     "data": {
      "text/plain": [
       "0       [ibn, stock, earnings, icici, bank, report, re...\n",
       "1       [ibn, stock, earnings, icici, bank, beats, eps...\n",
       "2                 [asian, countries, best, quality, life]\n",
       "3       [zacks, industry, outlook, highlights, mitsubi...\n",
       "4       [high, rate, aid, hsbcs, q, earnings, ib, trad...\n",
       "                              ...                        \n",
       "1863    [icici, lombard, general, insurance, q, net, p...\n",
       "1864    [icici, bank, violate, norm, relate, loans, ad...\n",
       "1865    [rbi, issue, penalty, worth, cr, icici, bank, ...\n",
       "1866    [send, contact, number, note, issue, fraudulen...\n",
       "1867                                              [icici]\n",
       "Name: tweet_text, Length: 1868, dtype: object"
      ]
     },
     "execution_count": 224,
     "metadata": {},
     "output_type": "execute_result"
    }
   ],
   "source": [
    "df['tweet_text']"
   ]
  },
  {
   "cell_type": "code",
   "execution_count": 225,
   "id": "cdc0ec42-c105-47f2-86bb-766a7ebd6234",
   "metadata": {},
   "outputs": [],
   "source": [
    "# Perform Stemming\n",
    "from nltk.stem.porter import PorterStemmer\n",
    "ps = PorterStemmer()"
   ]
  },
  {
   "cell_type": "code",
   "execution_count": 226,
   "id": "320ac05b-cf1f-4c13-ac3d-fabe18acd8a6",
   "metadata": {},
   "outputs": [],
   "source": [
    "y = []\n",
    "def stem_words(text):\n",
    "    for i in text:\n",
    "        y.append(ps.stem(i))\n",
    "    z=y[:]\n",
    "    y.clear()\n",
    "    return z\n",
    "    "
   ]
  },
  {
   "cell_type": "code",
   "execution_count": 227,
   "id": "2145cb57-bc0b-47ec-9de2-6526875bac18",
   "metadata": {},
   "outputs": [],
   "source": [
    "df['tweet_text'] = df['tweet_text'].apply(stem_words)"
   ]
  },
  {
   "cell_type": "code",
   "execution_count": 228,
   "id": "1f1c8a89-9206-40a1-aa7c-c6950fb59da4",
   "metadata": {},
   "outputs": [],
   "source": [
    "def join_back(list_input):\n",
    "    return \" \".join(list_input)"
   ]
  },
  {
   "cell_type": "code",
   "execution_count": 229,
   "id": "92fbca0e-27e3-49c1-8e36-5478efa66c5e",
   "metadata": {},
   "outputs": [],
   "source": [
    "df['tweet_text'] = df['tweet_text'].apply(join_back)"
   ]
  },
  {
   "cell_type": "code",
   "execution_count": 230,
   "id": "45bc0598-2354-4716-b791-c5153507d19a",
   "metadata": {},
   "outputs": [
    {
     "data": {
      "text/plain": [
       "0               ibn stock earn icici bank report result q\n",
       "1                     ibn stock earn icici bank beat ep q\n",
       "2                         asian countri best qualiti life\n",
       "3       zack industri outlook highlight mitsubishi ufj...\n",
       "4                 high rate aid hsbc q earn ib trade hurt\n",
       "                              ...                        \n",
       "1863    icici lombard gener insur q net profit b vs b ...\n",
       "1864    icici bank violat norm relat loan advanc rbi i...\n",
       "1865    rbi issu penalti worth cr icici bank kotak mah...\n",
       "1866    send contact number note issu fraudul debit ac...\n",
       "1867                                                icici\n",
       "Name: tweet_text, Length: 1868, dtype: object"
      ]
     },
     "execution_count": 230,
     "metadata": {},
     "output_type": "execute_result"
    }
   ],
   "source": [
    "df['tweet_text']"
   ]
  },
  {
   "cell_type": "code",
   "execution_count": 231,
   "id": "91481bb1-93fe-4729-b5fe-582e9c8fc078",
   "metadata": {},
   "outputs": [
    {
     "data": {
      "text/html": [
       "<div>\n",
       "<style scoped>\n",
       "    .dataframe tbody tr th:only-of-type {\n",
       "        vertical-align: middle;\n",
       "    }\n",
       "\n",
       "    .dataframe tbody tr th {\n",
       "        vertical-align: top;\n",
       "    }\n",
       "\n",
       "    .dataframe thead th {\n",
       "        text-align: right;\n",
       "    }\n",
       "</style>\n",
       "<table border=\"1\" class=\"dataframe\">\n",
       "  <thead>\n",
       "    <tr style=\"text-align: right;\">\n",
       "      <th></th>\n",
       "      <th>tweet_text</th>\n",
       "      <th>Azure label</th>\n",
       "    </tr>\n",
       "  </thead>\n",
       "  <tbody>\n",
       "    <tr>\n",
       "      <th>0</th>\n",
       "      <td>ibn stock earn icici bank report result q</td>\n",
       "      <td>positive</td>\n",
       "    </tr>\n",
       "    <tr>\n",
       "      <th>1</th>\n",
       "      <td>ibn stock earn icici bank beat ep q</td>\n",
       "      <td>positive</td>\n",
       "    </tr>\n",
       "    <tr>\n",
       "      <th>2</th>\n",
       "      <td>asian countri best qualiti life</td>\n",
       "      <td>positive</td>\n",
       "    </tr>\n",
       "    <tr>\n",
       "      <th>3</th>\n",
       "      <td>zack industri outlook highlight mitsubishi ufj...</td>\n",
       "      <td>positive</td>\n",
       "    </tr>\n",
       "    <tr>\n",
       "      <th>4</th>\n",
       "      <td>high rate aid hsbc q earn ib trade hurt</td>\n",
       "      <td>neutral</td>\n",
       "    </tr>\n",
       "    <tr>\n",
       "      <th>...</th>\n",
       "      <td>...</td>\n",
       "      <td>...</td>\n",
       "    </tr>\n",
       "    <tr>\n",
       "      <th>1863</th>\n",
       "      <td>icici lombard gener insur q net profit b vs b ...</td>\n",
       "      <td>positive</td>\n",
       "    </tr>\n",
       "    <tr>\n",
       "      <th>1864</th>\n",
       "      <td>icici bank violat norm relat loan advanc rbi i...</td>\n",
       "      <td>positive</td>\n",
       "    </tr>\n",
       "    <tr>\n",
       "      <th>1865</th>\n",
       "      <td>rbi issu penalti worth cr icici bank kotak mah...</td>\n",
       "      <td>positive</td>\n",
       "    </tr>\n",
       "    <tr>\n",
       "      <th>1866</th>\n",
       "      <td>send contact number note issu fraudul debit ac...</td>\n",
       "      <td>negative</td>\n",
       "    </tr>\n",
       "    <tr>\n",
       "      <th>1867</th>\n",
       "      <td>icici</td>\n",
       "      <td>positive</td>\n",
       "    </tr>\n",
       "  </tbody>\n",
       "</table>\n",
       "<p>1868 rows × 2 columns</p>\n",
       "</div>"
      ],
      "text/plain": [
       "                                             tweet_text Azure label\n",
       "0             ibn stock earn icici bank report result q    positive\n",
       "1                   ibn stock earn icici bank beat ep q    positive\n",
       "2                       asian countri best qualiti life    positive\n",
       "3     zack industri outlook highlight mitsubishi ufj...    positive\n",
       "4               high rate aid hsbc q earn ib trade hurt     neutral\n",
       "...                                                 ...         ...\n",
       "1863  icici lombard gener insur q net profit b vs b ...    positive\n",
       "1864  icici bank violat norm relat loan advanc rbi i...    positive\n",
       "1865  rbi issu penalti worth cr icici bank kotak mah...    positive\n",
       "1866  send contact number note issu fraudul debit ac...    negative\n",
       "1867                                              icici    positive\n",
       "\n",
       "[1868 rows x 2 columns]"
      ]
     },
     "execution_count": 231,
     "metadata": {},
     "output_type": "execute_result"
    }
   ],
   "source": [
    "# This is the clean and processed data.\n",
    "df"
   ]
  },
  {
   "cell_type": "code",
   "execution_count": 232,
   "id": "54a849a6-75fe-45a8-b434-680f1790f339",
   "metadata": {},
   "outputs": [
    {
     "name": "stdout",
     "output_type": "stream",
     "text": [
      "Train:  (1401,) (1401,) Test:  ((467,), (467,))\n"
     ]
    }
   ],
   "source": [
    "#We will not Split train and test data .\n",
    "\n",
    "from sklearn.model_selection import train_test_split\n",
    "X_train,X_test,Y_train, Y_test = train_test_split(df['tweet_text'], df['Azure label'], test_size=0.25, random_state=30)\n",
    "print('Train: ',X_train.shape,Y_train.shape,'Test: ',(X_test.shape,Y_test.shape))"
   ]
  },
  {
   "cell_type": "code",
   "execution_count": 233,
   "id": "08a7aca2-9745-410a-9747-4b6316de795d",
   "metadata": {},
   "outputs": [],
   "source": [
    "##RANDOM FOREST"
   ]
  },
  {
   "cell_type": "code",
   "execution_count": 234,
   "id": "447363de-5dde-4263-a78a-4121242eace0",
   "metadata": {},
   "outputs": [],
   "source": [
    "from sklearn.model_selection import train_test_split\n",
    "from sklearn.feature_extraction.text import TfidfVectorizer\n",
    "from sklearn.ensemble import RandomForestClassifier\n",
    "from sklearn.metrics import accuracy_score, classification_report\n"
   ]
  },
  {
   "cell_type": "code",
   "execution_count": 235,
   "id": "016db978-6bef-44f6-a6ae-b316819291f0",
   "metadata": {},
   "outputs": [],
   "source": [
    "vectorizer = TfidfVectorizer(max_features=1000, stop_words='english')\n",
    "X_train_tfidf = vectorizer.fit_transform(X_train)\n",
    "X_test_tfidf = vectorizer.transform(X_test)"
   ]
  },
  {
   "cell_type": "code",
   "execution_count": 236,
   "id": "2b3bff48-2452-4a9d-889a-46d174027eec",
   "metadata": {},
   "outputs": [
    {
     "data": {
      "text/html": [
       "<style>#sk-container-id-12 {color: black;background-color: white;}#sk-container-id-12 pre{padding: 0;}#sk-container-id-12 div.sk-toggleable {background-color: white;}#sk-container-id-12 label.sk-toggleable__label {cursor: pointer;display: block;width: 100%;margin-bottom: 0;padding: 0.3em;box-sizing: border-box;text-align: center;}#sk-container-id-12 label.sk-toggleable__label-arrow:before {content: \"▸\";float: left;margin-right: 0.25em;color: #696969;}#sk-container-id-12 label.sk-toggleable__label-arrow:hover:before {color: black;}#sk-container-id-12 div.sk-estimator:hover label.sk-toggleable__label-arrow:before {color: black;}#sk-container-id-12 div.sk-toggleable__content {max-height: 0;max-width: 0;overflow: hidden;text-align: left;background-color: #f0f8ff;}#sk-container-id-12 div.sk-toggleable__content pre {margin: 0.2em;color: black;border-radius: 0.25em;background-color: #f0f8ff;}#sk-container-id-12 input.sk-toggleable__control:checked~div.sk-toggleable__content {max-height: 200px;max-width: 100%;overflow: auto;}#sk-container-id-12 input.sk-toggleable__control:checked~label.sk-toggleable__label-arrow:before {content: \"▾\";}#sk-container-id-12 div.sk-estimator input.sk-toggleable__control:checked~label.sk-toggleable__label {background-color: #d4ebff;}#sk-container-id-12 div.sk-label input.sk-toggleable__control:checked~label.sk-toggleable__label {background-color: #d4ebff;}#sk-container-id-12 input.sk-hidden--visually {border: 0;clip: rect(1px 1px 1px 1px);clip: rect(1px, 1px, 1px, 1px);height: 1px;margin: -1px;overflow: hidden;padding: 0;position: absolute;width: 1px;}#sk-container-id-12 div.sk-estimator {font-family: monospace;background-color: #f0f8ff;border: 1px dotted black;border-radius: 0.25em;box-sizing: border-box;margin-bottom: 0.5em;}#sk-container-id-12 div.sk-estimator:hover {background-color: #d4ebff;}#sk-container-id-12 div.sk-parallel-item::after {content: \"\";width: 100%;border-bottom: 1px solid gray;flex-grow: 1;}#sk-container-id-12 div.sk-label:hover label.sk-toggleable__label {background-color: #d4ebff;}#sk-container-id-12 div.sk-serial::before {content: \"\";position: absolute;border-left: 1px solid gray;box-sizing: border-box;top: 0;bottom: 0;left: 50%;z-index: 0;}#sk-container-id-12 div.sk-serial {display: flex;flex-direction: column;align-items: center;background-color: white;padding-right: 0.2em;padding-left: 0.2em;position: relative;}#sk-container-id-12 div.sk-item {position: relative;z-index: 1;}#sk-container-id-12 div.sk-parallel {display: flex;align-items: stretch;justify-content: center;background-color: white;position: relative;}#sk-container-id-12 div.sk-item::before, #sk-container-id-12 div.sk-parallel-item::before {content: \"\";position: absolute;border-left: 1px solid gray;box-sizing: border-box;top: 0;bottom: 0;left: 50%;z-index: -1;}#sk-container-id-12 div.sk-parallel-item {display: flex;flex-direction: column;z-index: 1;position: relative;background-color: white;}#sk-container-id-12 div.sk-parallel-item:first-child::after {align-self: flex-end;width: 50%;}#sk-container-id-12 div.sk-parallel-item:last-child::after {align-self: flex-start;width: 50%;}#sk-container-id-12 div.sk-parallel-item:only-child::after {width: 0;}#sk-container-id-12 div.sk-dashed-wrapped {border: 1px dashed gray;margin: 0 0.4em 0.5em 0.4em;box-sizing: border-box;padding-bottom: 0.4em;background-color: white;}#sk-container-id-12 div.sk-label label {font-family: monospace;font-weight: bold;display: inline-block;line-height: 1.2em;}#sk-container-id-12 div.sk-label-container {text-align: center;}#sk-container-id-12 div.sk-container {/* jupyter's `normalize.less` sets `[hidden] { display: none; }` but bootstrap.min.css set `[hidden] { display: none !important; }` so we also need the `!important` here to be able to override the default hidden behavior on the sphinx rendered scikit-learn.org. See: https://github.com/scikit-learn/scikit-learn/issues/21755 */display: inline-block !important;position: relative;}#sk-container-id-12 div.sk-text-repr-fallback {display: none;}</style><div id=\"sk-container-id-12\" class=\"sk-top-container\"><div class=\"sk-text-repr-fallback\"><pre>RandomForestClassifier(random_state=42)</pre><b>In a Jupyter environment, please rerun this cell to show the HTML representation or trust the notebook. <br />On GitHub, the HTML representation is unable to render, please try loading this page with nbviewer.org.</b></div><div class=\"sk-container\" hidden><div class=\"sk-item\"><div class=\"sk-estimator sk-toggleable\"><input class=\"sk-toggleable__control sk-hidden--visually\" id=\"sk-estimator-id-14\" type=\"checkbox\" checked><label for=\"sk-estimator-id-14\" class=\"sk-toggleable__label sk-toggleable__label-arrow\">RandomForestClassifier</label><div class=\"sk-toggleable__content\"><pre>RandomForestClassifier(random_state=42)</pre></div></div></div></div></div>"
      ],
      "text/plain": [
       "RandomForestClassifier(random_state=42)"
      ]
     },
     "execution_count": 236,
     "metadata": {},
     "output_type": "execute_result"
    }
   ],
   "source": [
    "rf_model = RandomForestClassifier(n_estimators=100, random_state=42)\n",
    "rf_model.fit(X_train_tfidf, Y_train)"
   ]
  },
  {
   "cell_type": "code",
   "execution_count": 237,
   "id": "747a6985-b67c-4eea-9a6e-09179176fc0e",
   "metadata": {},
   "outputs": [],
   "source": [
    "# Predictions\n",
    "predictions = rf_model.predict(X_test_tfidf)"
   ]
  },
  {
   "cell_type": "code",
   "execution_count": 238,
   "id": "dcf3ca7c-fbe1-4fc4-9fd0-2ed43d7d2185",
   "metadata": {},
   "outputs": [
    {
     "name": "stdout",
     "output_type": "stream",
     "text": [
      "Accuracy: 0.7987152034261242\n",
      "              precision    recall  f1-score   support\n",
      "\n",
      "    negative       0.76      0.64      0.69       103\n",
      "     neutral       0.95      0.57      0.72       101\n",
      "    positive       0.78      0.95      0.86       263\n",
      "\n",
      "    accuracy                           0.80       467\n",
      "   macro avg       0.83      0.72      0.76       467\n",
      "weighted avg       0.81      0.80      0.79       467\n",
      "\n"
     ]
    }
   ],
   "source": [
    "# Evaluation\n",
    "print(f\"Accuracy: {accuracy_score(Y_test, predictions)}\")\n",
    "print(classification_report(Y_test, predictions))"
   ]
  },
  {
   "cell_type": "code",
   "execution_count": 239,
   "id": "c1eda2e3-3e50-4795-ad22-95619ab5d415",
   "metadata": {},
   "outputs": [],
   "source": [
    "###SVM"
   ]
  },
  {
   "cell_type": "code",
   "execution_count": 240,
   "id": "4fc53bf3-ea78-4589-b2cb-814440f61210",
   "metadata": {},
   "outputs": [],
   "source": [
    "from sklearn.svm import LinearSVC\n",
    "clf = LinearSVC(random_state=0)"
   ]
  },
  {
   "cell_type": "code",
   "execution_count": 241,
   "id": "65fc6c49-d4ad-4b6f-ba13-6f7232f02e1f",
   "metadata": {},
   "outputs": [
    {
     "data": {
      "text/html": [
       "<style>#sk-container-id-13 {color: black;background-color: white;}#sk-container-id-13 pre{padding: 0;}#sk-container-id-13 div.sk-toggleable {background-color: white;}#sk-container-id-13 label.sk-toggleable__label {cursor: pointer;display: block;width: 100%;margin-bottom: 0;padding: 0.3em;box-sizing: border-box;text-align: center;}#sk-container-id-13 label.sk-toggleable__label-arrow:before {content: \"▸\";float: left;margin-right: 0.25em;color: #696969;}#sk-container-id-13 label.sk-toggleable__label-arrow:hover:before {color: black;}#sk-container-id-13 div.sk-estimator:hover label.sk-toggleable__label-arrow:before {color: black;}#sk-container-id-13 div.sk-toggleable__content {max-height: 0;max-width: 0;overflow: hidden;text-align: left;background-color: #f0f8ff;}#sk-container-id-13 div.sk-toggleable__content pre {margin: 0.2em;color: black;border-radius: 0.25em;background-color: #f0f8ff;}#sk-container-id-13 input.sk-toggleable__control:checked~div.sk-toggleable__content {max-height: 200px;max-width: 100%;overflow: auto;}#sk-container-id-13 input.sk-toggleable__control:checked~label.sk-toggleable__label-arrow:before {content: \"▾\";}#sk-container-id-13 div.sk-estimator input.sk-toggleable__control:checked~label.sk-toggleable__label {background-color: #d4ebff;}#sk-container-id-13 div.sk-label input.sk-toggleable__control:checked~label.sk-toggleable__label {background-color: #d4ebff;}#sk-container-id-13 input.sk-hidden--visually {border: 0;clip: rect(1px 1px 1px 1px);clip: rect(1px, 1px, 1px, 1px);height: 1px;margin: -1px;overflow: hidden;padding: 0;position: absolute;width: 1px;}#sk-container-id-13 div.sk-estimator {font-family: monospace;background-color: #f0f8ff;border: 1px dotted black;border-radius: 0.25em;box-sizing: border-box;margin-bottom: 0.5em;}#sk-container-id-13 div.sk-estimator:hover {background-color: #d4ebff;}#sk-container-id-13 div.sk-parallel-item::after {content: \"\";width: 100%;border-bottom: 1px solid gray;flex-grow: 1;}#sk-container-id-13 div.sk-label:hover label.sk-toggleable__label {background-color: #d4ebff;}#sk-container-id-13 div.sk-serial::before {content: \"\";position: absolute;border-left: 1px solid gray;box-sizing: border-box;top: 0;bottom: 0;left: 50%;z-index: 0;}#sk-container-id-13 div.sk-serial {display: flex;flex-direction: column;align-items: center;background-color: white;padding-right: 0.2em;padding-left: 0.2em;position: relative;}#sk-container-id-13 div.sk-item {position: relative;z-index: 1;}#sk-container-id-13 div.sk-parallel {display: flex;align-items: stretch;justify-content: center;background-color: white;position: relative;}#sk-container-id-13 div.sk-item::before, #sk-container-id-13 div.sk-parallel-item::before {content: \"\";position: absolute;border-left: 1px solid gray;box-sizing: border-box;top: 0;bottom: 0;left: 50%;z-index: -1;}#sk-container-id-13 div.sk-parallel-item {display: flex;flex-direction: column;z-index: 1;position: relative;background-color: white;}#sk-container-id-13 div.sk-parallel-item:first-child::after {align-self: flex-end;width: 50%;}#sk-container-id-13 div.sk-parallel-item:last-child::after {align-self: flex-start;width: 50%;}#sk-container-id-13 div.sk-parallel-item:only-child::after {width: 0;}#sk-container-id-13 div.sk-dashed-wrapped {border: 1px dashed gray;margin: 0 0.4em 0.5em 0.4em;box-sizing: border-box;padding-bottom: 0.4em;background-color: white;}#sk-container-id-13 div.sk-label label {font-family: monospace;font-weight: bold;display: inline-block;line-height: 1.2em;}#sk-container-id-13 div.sk-label-container {text-align: center;}#sk-container-id-13 div.sk-container {/* jupyter's `normalize.less` sets `[hidden] { display: none; }` but bootstrap.min.css set `[hidden] { display: none !important; }` so we also need the `!important` here to be able to override the default hidden behavior on the sphinx rendered scikit-learn.org. See: https://github.com/scikit-learn/scikit-learn/issues/21755 */display: inline-block !important;position: relative;}#sk-container-id-13 div.sk-text-repr-fallback {display: none;}</style><div id=\"sk-container-id-13\" class=\"sk-top-container\"><div class=\"sk-text-repr-fallback\"><pre>LinearSVC(random_state=0)</pre><b>In a Jupyter environment, please rerun this cell to show the HTML representation or trust the notebook. <br />On GitHub, the HTML representation is unable to render, please try loading this page with nbviewer.org.</b></div><div class=\"sk-container\" hidden><div class=\"sk-item\"><div class=\"sk-estimator sk-toggleable\"><input class=\"sk-toggleable__control sk-hidden--visually\" id=\"sk-estimator-id-15\" type=\"checkbox\" checked><label for=\"sk-estimator-id-15\" class=\"sk-toggleable__label sk-toggleable__label-arrow\">LinearSVC</label><div class=\"sk-toggleable__content\"><pre>LinearSVC(random_state=0)</pre></div></div></div></div></div>"
      ],
      "text/plain": [
       "LinearSVC(random_state=0)"
      ]
     },
     "execution_count": 241,
     "metadata": {},
     "output_type": "execute_result"
    }
   ],
   "source": [
    "clf.fit(X_train_tfidf,Y_train)"
   ]
  },
  {
   "cell_type": "code",
   "execution_count": 242,
   "id": "5a3cc9ac-8912-424f-96ff-ef108e67014e",
   "metadata": {},
   "outputs": [],
   "source": [
    "y_test_pred=clf.predict(X_test_tfidf)"
   ]
  },
  {
   "cell_type": "code",
   "execution_count": 243,
   "id": "8c487e92-bc91-4a06-a41f-e484bee51738",
   "metadata": {},
   "outputs": [],
   "source": [
    "from sklearn.metrics import classification_report\n",
    "report=classification_report(Y_test, y_test_pred,output_dict=True)"
   ]
  },
  {
   "cell_type": "code",
   "execution_count": 244,
   "id": "5d0b4e65-be08-4cdd-beff-263b6c4480d0",
   "metadata": {},
   "outputs": [
    {
     "name": "stdout",
     "output_type": "stream",
     "text": [
      "              precision    recall  f1-score   support\n",
      "\n",
      "    negative       0.70      0.61      0.65       103\n",
      "     neutral       0.75      0.61      0.67       101\n",
      "    positive       0.78      0.87      0.82       263\n",
      "\n",
      "    accuracy                           0.76       467\n",
      "   macro avg       0.74      0.70      0.72       467\n",
      "weighted avg       0.75      0.76      0.75       467\n",
      "\n"
     ]
    }
   ],
   "source": [
    "print(classification_report(Y_test, y_test_pred))"
   ]
  },
  {
   "cell_type": "code",
   "execution_count": 245,
   "id": "9d883a25-34cb-43df-8497-b96fa7034354",
   "metadata": {},
   "outputs": [],
   "source": [
    "##### Logistic Regression"
   ]
  },
  {
   "cell_type": "code",
   "execution_count": 246,
   "id": "8761a269-3d01-4f44-8016-fd70168416ce",
   "metadata": {},
   "outputs": [],
   "source": [
    "from sklearn.linear_model import LogisticRegression\n",
    "clf = LogisticRegression(max_iter=1000,solver='saga')"
   ]
  },
  {
   "cell_type": "code",
   "execution_count": 247,
   "id": "6ffbdc91-f63b-4787-bcaa-62b317e494f6",
   "metadata": {},
   "outputs": [
    {
     "data": {
      "text/html": [
       "<style>#sk-container-id-14 {color: black;background-color: white;}#sk-container-id-14 pre{padding: 0;}#sk-container-id-14 div.sk-toggleable {background-color: white;}#sk-container-id-14 label.sk-toggleable__label {cursor: pointer;display: block;width: 100%;margin-bottom: 0;padding: 0.3em;box-sizing: border-box;text-align: center;}#sk-container-id-14 label.sk-toggleable__label-arrow:before {content: \"▸\";float: left;margin-right: 0.25em;color: #696969;}#sk-container-id-14 label.sk-toggleable__label-arrow:hover:before {color: black;}#sk-container-id-14 div.sk-estimator:hover label.sk-toggleable__label-arrow:before {color: black;}#sk-container-id-14 div.sk-toggleable__content {max-height: 0;max-width: 0;overflow: hidden;text-align: left;background-color: #f0f8ff;}#sk-container-id-14 div.sk-toggleable__content pre {margin: 0.2em;color: black;border-radius: 0.25em;background-color: #f0f8ff;}#sk-container-id-14 input.sk-toggleable__control:checked~div.sk-toggleable__content {max-height: 200px;max-width: 100%;overflow: auto;}#sk-container-id-14 input.sk-toggleable__control:checked~label.sk-toggleable__label-arrow:before {content: \"▾\";}#sk-container-id-14 div.sk-estimator input.sk-toggleable__control:checked~label.sk-toggleable__label {background-color: #d4ebff;}#sk-container-id-14 div.sk-label input.sk-toggleable__control:checked~label.sk-toggleable__label {background-color: #d4ebff;}#sk-container-id-14 input.sk-hidden--visually {border: 0;clip: rect(1px 1px 1px 1px);clip: rect(1px, 1px, 1px, 1px);height: 1px;margin: -1px;overflow: hidden;padding: 0;position: absolute;width: 1px;}#sk-container-id-14 div.sk-estimator {font-family: monospace;background-color: #f0f8ff;border: 1px dotted black;border-radius: 0.25em;box-sizing: border-box;margin-bottom: 0.5em;}#sk-container-id-14 div.sk-estimator:hover {background-color: #d4ebff;}#sk-container-id-14 div.sk-parallel-item::after {content: \"\";width: 100%;border-bottom: 1px solid gray;flex-grow: 1;}#sk-container-id-14 div.sk-label:hover label.sk-toggleable__label {background-color: #d4ebff;}#sk-container-id-14 div.sk-serial::before {content: \"\";position: absolute;border-left: 1px solid gray;box-sizing: border-box;top: 0;bottom: 0;left: 50%;z-index: 0;}#sk-container-id-14 div.sk-serial {display: flex;flex-direction: column;align-items: center;background-color: white;padding-right: 0.2em;padding-left: 0.2em;position: relative;}#sk-container-id-14 div.sk-item {position: relative;z-index: 1;}#sk-container-id-14 div.sk-parallel {display: flex;align-items: stretch;justify-content: center;background-color: white;position: relative;}#sk-container-id-14 div.sk-item::before, #sk-container-id-14 div.sk-parallel-item::before {content: \"\";position: absolute;border-left: 1px solid gray;box-sizing: border-box;top: 0;bottom: 0;left: 50%;z-index: -1;}#sk-container-id-14 div.sk-parallel-item {display: flex;flex-direction: column;z-index: 1;position: relative;background-color: white;}#sk-container-id-14 div.sk-parallel-item:first-child::after {align-self: flex-end;width: 50%;}#sk-container-id-14 div.sk-parallel-item:last-child::after {align-self: flex-start;width: 50%;}#sk-container-id-14 div.sk-parallel-item:only-child::after {width: 0;}#sk-container-id-14 div.sk-dashed-wrapped {border: 1px dashed gray;margin: 0 0.4em 0.5em 0.4em;box-sizing: border-box;padding-bottom: 0.4em;background-color: white;}#sk-container-id-14 div.sk-label label {font-family: monospace;font-weight: bold;display: inline-block;line-height: 1.2em;}#sk-container-id-14 div.sk-label-container {text-align: center;}#sk-container-id-14 div.sk-container {/* jupyter's `normalize.less` sets `[hidden] { display: none; }` but bootstrap.min.css set `[hidden] { display: none !important; }` so we also need the `!important` here to be able to override the default hidden behavior on the sphinx rendered scikit-learn.org. See: https://github.com/scikit-learn/scikit-learn/issues/21755 */display: inline-block !important;position: relative;}#sk-container-id-14 div.sk-text-repr-fallback {display: none;}</style><div id=\"sk-container-id-14\" class=\"sk-top-container\"><div class=\"sk-text-repr-fallback\"><pre>LogisticRegression(max_iter=1000, solver=&#x27;saga&#x27;)</pre><b>In a Jupyter environment, please rerun this cell to show the HTML representation or trust the notebook. <br />On GitHub, the HTML representation is unable to render, please try loading this page with nbviewer.org.</b></div><div class=\"sk-container\" hidden><div class=\"sk-item\"><div class=\"sk-estimator sk-toggleable\"><input class=\"sk-toggleable__control sk-hidden--visually\" id=\"sk-estimator-id-16\" type=\"checkbox\" checked><label for=\"sk-estimator-id-16\" class=\"sk-toggleable__label sk-toggleable__label-arrow\">LogisticRegression</label><div class=\"sk-toggleable__content\"><pre>LogisticRegression(max_iter=1000, solver=&#x27;saga&#x27;)</pre></div></div></div></div></div>"
      ],
      "text/plain": [
       "LogisticRegression(max_iter=1000, solver='saga')"
      ]
     },
     "execution_count": 247,
     "metadata": {},
     "output_type": "execute_result"
    }
   ],
   "source": [
    "clf.fit(X_train_tfidf,Y_train)"
   ]
  },
  {
   "cell_type": "code",
   "execution_count": 248,
   "id": "bf21002f-eda9-48a5-b769-d4fdd2e76010",
   "metadata": {},
   "outputs": [],
   "source": [
    "y_test_pred=clf.predict(X_test_tfidf)"
   ]
  },
  {
   "cell_type": "code",
   "execution_count": 249,
   "id": "04f3195d-77be-475f-9bb9-ba8c96133376",
   "metadata": {},
   "outputs": [],
   "source": [
    "from sklearn.metrics import classification_report\n",
    "report=classification_report(Y_test, y_test_pred,output_dict=True)"
   ]
  },
  {
   "cell_type": "code",
   "execution_count": 250,
   "id": "96d91b56-8759-4ef7-baa8-3184e46cf30d",
   "metadata": {},
   "outputs": [
    {
     "name": "stdout",
     "output_type": "stream",
     "text": [
      "              precision    recall  f1-score   support\n",
      "\n",
      "    negative       0.76      0.59      0.67       103\n",
      "     neutral       0.96      0.50      0.65       101\n",
      "    positive       0.74      0.95      0.83       263\n",
      "\n",
      "    accuracy                           0.77       467\n",
      "   macro avg       0.82      0.68      0.72       467\n",
      "weighted avg       0.79      0.77      0.76       467\n",
      "\n"
     ]
    }
   ],
   "source": [
    "print(classification_report(Y_test, y_test_pred))"
   ]
  },
  {
   "cell_type": "code",
   "execution_count": 251,
   "id": "a3523a2b-c44a-4821-82f0-73b0db363130",
   "metadata": {},
   "outputs": [],
   "source": [
    "##Naive Bayes"
   ]
  },
  {
   "cell_type": "code",
   "execution_count": 252,
   "id": "dfdc5373-9baf-4166-aa00-69c9fc972b0b",
   "metadata": {},
   "outputs": [],
   "source": [
    "#from sklearn.svm import LinearSVC\n",
    "from sklearn.feature_extraction.text import TfidfVectorizer\n",
    "from sklearn.naive_bayes import MultinomialNB\n",
    "from sklearn.model_selection import train_test_split\n",
    "from sklearn.metrics import classification_report\n",
    "#from sklearn.pipeline import make_pipeline\n",
    "\n",
    "\n",
    "\n"
   ]
  },
  {
   "cell_type": "code",
   "execution_count": 253,
   "id": "c15da2ff-9a14-4fdd-b95c-63cc55e86814",
   "metadata": {},
   "outputs": [],
   "source": [
    "model = MultinomialNB()"
   ]
  },
  {
   "cell_type": "code",
   "execution_count": 254,
   "id": "79fdeb00-11fd-4184-9a99-1adafe17d1b6",
   "metadata": {},
   "outputs": [],
   "source": [
    "from sklearn.metrics import classification_report"
   ]
  },
  {
   "cell_type": "code",
   "execution_count": 255,
   "id": "02652b9b-2b52-4f76-80ce-4e13d0fac6a0",
   "metadata": {},
   "outputs": [
    {
     "name": "stdout",
     "output_type": "stream",
     "text": [
      "              precision    recall  f1-score   support\n",
      "\n",
      "    negative       0.66      0.65      0.66       103\n",
      "     neutral       0.86      0.49      0.62       101\n",
      "    positive       0.77      0.90      0.83       263\n",
      "\n",
      "    accuracy                           0.76       467\n",
      "   macro avg       0.76      0.68      0.70       467\n",
      "weighted avg       0.76      0.76      0.75       467\n",
      "\n"
     ]
    }
   ],
   "source": [
    "# Train the model on the training data\n",
    "\n",
    "model.fit(X_train_tfidf, Y_train)\n",
    "\n",
    "# Make predictions on the test data\n",
    "labels = model.predict(X_test_tfidf)\n",
    "\n",
    "\n",
    "# Evaluate the model\n",
    "print(classification_report(Y_test, labels))"
   ]
  },
  {
   "cell_type": "code",
   "execution_count": 256,
   "id": "a6e5e8ac-9daf-4b13-b7fd-c057fafff14b",
   "metadata": {},
   "outputs": [],
   "source": [
    "from sklearn.naive_bayes import GaussianNB,MultinomialNB,BernoulliNB"
   ]
  },
  {
   "cell_type": "code",
   "execution_count": 257,
   "id": "73036d9d-cc6d-4e49-8f82-cdc1a98d2f47",
   "metadata": {},
   "outputs": [],
   "source": [
    "dense_tf_x_train = X_train_tfidf.toarray()\n",
    "dense_tf_x_test = X_test_tfidf.toarray()"
   ]
  },
  {
   "cell_type": "code",
   "execution_count": 258,
   "id": "56ef0f56-82ec-4c38-b9c6-abc36534152b",
   "metadata": {},
   "outputs": [],
   "source": [
    "clf1 = GaussianNB()\n",
    "clf2 = MultinomialNB()\n",
    "clf3 = BernoulliNB()"
   ]
  },
  {
   "cell_type": "code",
   "execution_count": 259,
   "id": "39a61196-dfe9-455f-ada9-724f820cd7ef",
   "metadata": {},
   "outputs": [
    {
     "data": {
      "text/html": [
       "<style>#sk-container-id-15 {color: black;background-color: white;}#sk-container-id-15 pre{padding: 0;}#sk-container-id-15 div.sk-toggleable {background-color: white;}#sk-container-id-15 label.sk-toggleable__label {cursor: pointer;display: block;width: 100%;margin-bottom: 0;padding: 0.3em;box-sizing: border-box;text-align: center;}#sk-container-id-15 label.sk-toggleable__label-arrow:before {content: \"▸\";float: left;margin-right: 0.25em;color: #696969;}#sk-container-id-15 label.sk-toggleable__label-arrow:hover:before {color: black;}#sk-container-id-15 div.sk-estimator:hover label.sk-toggleable__label-arrow:before {color: black;}#sk-container-id-15 div.sk-toggleable__content {max-height: 0;max-width: 0;overflow: hidden;text-align: left;background-color: #f0f8ff;}#sk-container-id-15 div.sk-toggleable__content pre {margin: 0.2em;color: black;border-radius: 0.25em;background-color: #f0f8ff;}#sk-container-id-15 input.sk-toggleable__control:checked~div.sk-toggleable__content {max-height: 200px;max-width: 100%;overflow: auto;}#sk-container-id-15 input.sk-toggleable__control:checked~label.sk-toggleable__label-arrow:before {content: \"▾\";}#sk-container-id-15 div.sk-estimator input.sk-toggleable__control:checked~label.sk-toggleable__label {background-color: #d4ebff;}#sk-container-id-15 div.sk-label input.sk-toggleable__control:checked~label.sk-toggleable__label {background-color: #d4ebff;}#sk-container-id-15 input.sk-hidden--visually {border: 0;clip: rect(1px 1px 1px 1px);clip: rect(1px, 1px, 1px, 1px);height: 1px;margin: -1px;overflow: hidden;padding: 0;position: absolute;width: 1px;}#sk-container-id-15 div.sk-estimator {font-family: monospace;background-color: #f0f8ff;border: 1px dotted black;border-radius: 0.25em;box-sizing: border-box;margin-bottom: 0.5em;}#sk-container-id-15 div.sk-estimator:hover {background-color: #d4ebff;}#sk-container-id-15 div.sk-parallel-item::after {content: \"\";width: 100%;border-bottom: 1px solid gray;flex-grow: 1;}#sk-container-id-15 div.sk-label:hover label.sk-toggleable__label {background-color: #d4ebff;}#sk-container-id-15 div.sk-serial::before {content: \"\";position: absolute;border-left: 1px solid gray;box-sizing: border-box;top: 0;bottom: 0;left: 50%;z-index: 0;}#sk-container-id-15 div.sk-serial {display: flex;flex-direction: column;align-items: center;background-color: white;padding-right: 0.2em;padding-left: 0.2em;position: relative;}#sk-container-id-15 div.sk-item {position: relative;z-index: 1;}#sk-container-id-15 div.sk-parallel {display: flex;align-items: stretch;justify-content: center;background-color: white;position: relative;}#sk-container-id-15 div.sk-item::before, #sk-container-id-15 div.sk-parallel-item::before {content: \"\";position: absolute;border-left: 1px solid gray;box-sizing: border-box;top: 0;bottom: 0;left: 50%;z-index: -1;}#sk-container-id-15 div.sk-parallel-item {display: flex;flex-direction: column;z-index: 1;position: relative;background-color: white;}#sk-container-id-15 div.sk-parallel-item:first-child::after {align-self: flex-end;width: 50%;}#sk-container-id-15 div.sk-parallel-item:last-child::after {align-self: flex-start;width: 50%;}#sk-container-id-15 div.sk-parallel-item:only-child::after {width: 0;}#sk-container-id-15 div.sk-dashed-wrapped {border: 1px dashed gray;margin: 0 0.4em 0.5em 0.4em;box-sizing: border-box;padding-bottom: 0.4em;background-color: white;}#sk-container-id-15 div.sk-label label {font-family: monospace;font-weight: bold;display: inline-block;line-height: 1.2em;}#sk-container-id-15 div.sk-label-container {text-align: center;}#sk-container-id-15 div.sk-container {/* jupyter's `normalize.less` sets `[hidden] { display: none; }` but bootstrap.min.css set `[hidden] { display: none !important; }` so we also need the `!important` here to be able to override the default hidden behavior on the sphinx rendered scikit-learn.org. See: https://github.com/scikit-learn/scikit-learn/issues/21755 */display: inline-block !important;position: relative;}#sk-container-id-15 div.sk-text-repr-fallback {display: none;}</style><div id=\"sk-container-id-15\" class=\"sk-top-container\"><div class=\"sk-text-repr-fallback\"><pre>BernoulliNB()</pre><b>In a Jupyter environment, please rerun this cell to show the HTML representation or trust the notebook. <br />On GitHub, the HTML representation is unable to render, please try loading this page with nbviewer.org.</b></div><div class=\"sk-container\" hidden><div class=\"sk-item\"><div class=\"sk-estimator sk-toggleable\"><input class=\"sk-toggleable__control sk-hidden--visually\" id=\"sk-estimator-id-17\" type=\"checkbox\" checked><label for=\"sk-estimator-id-17\" class=\"sk-toggleable__label sk-toggleable__label-arrow\">BernoulliNB</label><div class=\"sk-toggleable__content\"><pre>BernoulliNB()</pre></div></div></div></div></div>"
      ],
      "text/plain": [
       "BernoulliNB()"
      ]
     },
     "execution_count": 259,
     "metadata": {},
     "output_type": "execute_result"
    }
   ],
   "source": [
    "clf1.fit(dense_tf_x_train , Y_train)\n",
    "clf2.fit(dense_tf_x_train , Y_train)\n",
    "clf3.fit(dense_tf_x_train , Y_train)"
   ]
  },
  {
   "cell_type": "code",
   "execution_count": 260,
   "id": "fc33d909-d105-4f23-a7c5-afe177612d4d",
   "metadata": {},
   "outputs": [],
   "source": [
    "y_pred1 = clf1.predict(dense_tf_x_test)\n",
    "y_pred2 = clf2.predict(dense_tf_x_test)\n",
    "y_pred3 = clf3.predict(dense_tf_x_test)"
   ]
  },
  {
   "cell_type": "code",
   "execution_count": 261,
   "id": "04c74d75-61eb-40cf-a320-713b405463fc",
   "metadata": {},
   "outputs": [],
   "source": [
    "from sklearn.metrics import accuracy_score"
   ]
  },
  {
   "cell_type": "code",
   "execution_count": 262,
   "id": "c146fd91-a28d-456a-b865-9e400917eb53",
   "metadata": {},
   "outputs": [
    {
     "name": "stdout",
     "output_type": "stream",
     "text": [
      "Gaussian 0.5910064239828694\n",
      "MultinomialNB 0.7558886509635975\n",
      "BernoulliNB 0.7623126338329764\n"
     ]
    }
   ],
   "source": [
    "print( 'Gaussian',accuracy_score(Y_test,y_pred1))\n",
    "print( 'MultinomialNB',accuracy_score(Y_test,y_pred2))\n",
    "print( 'BernoulliNB',accuracy_score(Y_test,y_pred3))"
   ]
  },
  {
   "cell_type": "code",
   "execution_count": 263,
   "id": "520cdc2d-7f46-4ab5-a417-ea25507cf890",
   "metadata": {},
   "outputs": [],
   "source": [
    "###CONCLUSION: Best Accuracy is 80% from RANDOM FOREST so we will go for that."
   ]
  }
 ],
 "metadata": {
  "kernelspec": {
   "display_name": "Python 3 (ipykernel)",
   "language": "python",
   "name": "python3"
  },
  "language_info": {
   "codemirror_mode": {
    "name": "ipython",
    "version": 3
   },
   "file_extension": ".py",
   "mimetype": "text/x-python",
   "name": "python",
   "nbconvert_exporter": "python",
   "pygments_lexer": "ipython3",
   "version": "3.10.9"
  }
 },
 "nbformat": 4,
 "nbformat_minor": 5
}
